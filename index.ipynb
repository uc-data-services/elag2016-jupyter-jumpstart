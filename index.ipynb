{
 "cells": [
  {
   "cell_type": "markdown",
   "metadata": {},
   "source": [
    "# Jupyter Jumpstart \n",
    "\n",
    "## Instructors\n",
    "\n",
    "* Harrison Dekker, University of California, Berkeley \n",
    "* Tim Dennis, University of California, San Diego (@jt14den)\n",
    "\n",
    "**Description:** \n",
    "\n",
    "Consider the following quote: \n",
    ">An article about computational results is advertising, not\n",
    "scholarship. The actual scholarship is the full software environment, code and data, that\n",
    "produced the result. Claerbout and Karrenbach, Proceedings of the 62nd Annual International Meeting of the Society of Exploration Geophysics. 1992\n",
    "\n",
    "This quote highlights a central tenet of the open science movement, namely that researchers\n",
    "doing computational work need to share their code and data to allow replication of their results and to more clearly demonstrate their methods. But sharing is not yet commonplace, in part due to technical impediments. Typical problems have to do with reproducing the computing\n",
    "environment in which the code was used and include operating system dependencies, software\n",
    "version incompatibilities, and dependencies on proprietary components.\n",
    "\n",
    "Project Jupyter is an effort to provide a solution to these challenges by creating an opensource, computational environment where text and code can be intermingled:\n",
    "The Jupyter Notebook is a web application that allows you to create and share\n",
    "documents that contain live code, equations, visualizations and explanatory text. Uses\n",
    "include: data cleaning and transformation, numerical simulation, statistical modeling,\n",
    "machine learning and much more. (Source: <http://jupyter.org>)\n",
    "\n",
    "Numerous examples of Jupyter Notebooks now exist across the disciplines and in both research\n",
    "and teaching. There are even examples of their usage in journalism. We contend that libraries\n",
    "can and should play a role in promoting open science tools like Jupyter. Some potential roles\n",
    "include: \n",
    "\n",
    "* Advocates open science aligns closely with traditional library goals of providing free access to resource to promote an informed citizenry\n",
    "* Educational various levels of education from helping users locate existing Jupyter Notebooks to teaching the programming and data management skills needed to use them.\n",
    "* Curatorial as the number of Jupyter users increase, so will the need to build and curate them as digital artifacts\n",
    "* Infrastructure the Jupyter platform can run on individual workstations or in the cloud. Libraries could be providers of computing infrastructure to facilitate use of the notebooks and longterm access.\n",
    "\n",
    "**Outcomes**\n",
    "\n",
    "In this workshop we will explore how Jupyter is being used both in and outside of academia.\n",
    "Participants will gain experience finding, using, and developing Jupyter notebooks. Some prior\n",
    "experience with the Python language will be helpful, but not required."
   ]
  },
  {
   "cell_type": "markdown",
   "metadata": {
    "collapsed": true
   },
   "source": [
    "### Notebook Examples\n",
    "\n",
    "[A gallery of interesting IPython Notebooks](https://github.com/ipython/ipython/wiki/A-gallery-of-interesting-IPython-Notebooks)\n",
    "\n",
    "#### Scientific computing\n",
    "* Laser Interferometer Gravitational-wave Observatory (LIGO)\n",
    "  * [Article](http://www.ligo.org/science/Publication-GW150914/index.php) | [Tutorial](https://losc.ligo.org/s/events/GW150914/GW150914_tutorial.html)\n",
    "* [Reinhart-Rogoff replication](http://nbviewer.ipython.org/github/vincentarelbundock/Reinhart-Rogoff/blob/master/reinhart-rogoff.ipynb)\n",
    "\n",
    "#### Journalism\n",
    "* Los Angeles Times - LAPD Crime Classification Analysis [article](http://www.latimes.com/local/la-me-crimestats-lapd-20140810-story.html) | [code and data](https://github.com/datadesk/lapd-crime-classification-analysis)\n",
    "* Science - Who's Downloading Pirated Papers [article](http://www.sciencemag.org/news/2016/04/whos-downloading-pirated-papers-everyone) | [code and data](http://datadryad.org/resource/doi:10.5061/dryad.q447c)\n",
    "\n",
    "#### Teaching\n",
    "* UC Berkeley - DATA 8\n",
    "* The Hacker Within\n"
   ]
  },
  {
   "cell_type": "markdown",
   "metadata": {},
   "source": [
    "### Markdown & Rich Display System\n",
    "\n",
    "* [Markdown 101](https://github.com/uc-data-services/elag2016-jupyter-jumpstart/blob/gh-pages/Markdown%20101.ipynb)\n",
    "* [GitHub - Writing on GitHub](https://help.github.com/categories/writing-on-github/)\n",
    "* [Juypter Markdown](http://jupyter-notebook.readthedocs.io/en/latest/examples/Notebook/Working%20With%20Markdown%20Cells.html)\n",
    "* [IPython Rich Display System](http://nbviewer.jupyter.org/github/ipython/ipython/blob/1.x/examples/notebooks/Part%205%20-%20Rich%20Display%20System.ipynb) - including video, audio, etc in your notebooks\n"
   ]
  },
  {
   "cell_type": "markdown",
   "metadata": {},
   "source": [
    "### Library-related examples\n",
    "#### Databases\n",
    "#### API's\n",
    "#### Pybtex\n",
    "Pybtex turns machine-readable bibliography data into formatted human-readable bibliographies."
   ]
  }
 ],
 "metadata": {
  "kernelspec": {
   "display_name": "Python 2",
   "language": "python",
   "name": "python2"
  },
  "language_info": {
   "codemirror_mode": {
    "name": "ipython",
    "version": 2
   },
   "file_extension": ".py",
   "mimetype": "text/x-python",
   "name": "python",
   "nbconvert_exporter": "python",
   "pygments_lexer": "ipython2",
   "version": "2.7.11"
  }
 },
 "nbformat": 4,
 "nbformat_minor": 0
}
