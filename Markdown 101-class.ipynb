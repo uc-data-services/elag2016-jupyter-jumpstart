{
 "cells": [
  {
   "cell_type": "markdown",
   "metadata": {},
   "source": [
    "# lesson goals"
   ]
  },
  {
   "cell_type": "markdown",
   "metadata": {},
   "source": [
    "* Intro to markdown, plain text-based syntax for formatting docs\n",
    "* markdown is integrated into the jupyter notebook"
   ]
  },
  {
   "cell_type": "markdown",
   "metadata": {},
   "source": [
    "## What is markdown?"
   ]
  },
  {
   "cell_type": "markdown",
   "metadata": {},
   "source": [
    "* developed in 2004 by John Gruber\n",
    "  - a way of formatting text\n",
    "  \n",
    "  - a perl utility for converting markdown into html\n",
    "\n",
    "**plain text files** have many advantages of other formats\n",
    "1. they are readable on virt. all devices\n",
    "2. withstood the test of time (legacy word processing formats)\n",
    "\n",
    "by using markdown you'll be able to produce files that are legible in plain text and ready to be styled in other platforms\n",
    "\n",
    "example: \n",
    "\n",
    "* blogging engines, static site generators, sites like (github) support markdown & will render markdown into html\n",
    "* tools like pandoc convert files into and out of markdown"
   ]
  },
  {
   "cell_type": "markdown",
   "metadata": {},
   "source": [
    "markdown files are saved in extention `.md` and can be opened in text editors like textedit, notepad, sublime text, or vim"
   ]
  },
  {
   "cell_type": "markdown",
   "metadata": {},
   "source": [
    "#### Headings"
   ]
  },
  {
   "cell_type": "markdown",
   "metadata": {},
   "source": [
    "Four levels of heading are avaiable in Markdown, and are indicated by the number of `#` preceding the heading text. Paste the following examples into a code box."
   ]
  },
  {
   "cell_type": "markdown",
   "metadata": {},
   "source": [
    "```\n",
    "# First level heading\n",
    "## Second level heading\n",
    "### Third level heading\n",
    "#### Fourth level heading\n",
    "```"
   ]
  },
  {
   "cell_type": "code",
   "execution_count": null,
   "metadata": {
    "collapsed": true
   },
   "outputs": [],
   "source": []
  },
  {
   "cell_type": "markdown",
   "metadata": {},
   "source": [
    "First and second level headings may also be entered as follows:\n",
    "\n",
    "```\n",
    "First level heading\n",
    "=======\n",
    "\n",
    "Second level heading\n",
    "----------\n",
    "```"
   ]
  },
  {
   "cell_type": "code",
   "execution_count": null,
   "metadata": {
    "collapsed": true
   },
   "outputs": [],
   "source": []
  },
  {
   "cell_type": "markdown",
   "metadata": {},
   "source": [
    "#### Paragraphs & Line Breaks\n",
    "\n",
    "Try typing the following sentence into the textbox:\n",
    "\n",
    "```\n",
    "Welcome to the Jupyter Jumpstart.\n",
    "\n",
    "Today we'll be learning about Markdown syntax.\n",
    "This sentence is separated by a single line break from the preceding one.\n",
    "```"
   ]
  },
  {
   "cell_type": "code",
   "execution_count": null,
   "metadata": {
    "collapsed": true
   },
   "outputs": [],
   "source": []
  },
  {
   "cell_type": "markdown",
   "metadata": {},
   "source": [
    "NOTE: \n",
    "\n",
    "* Paragraphs must be separated by an empty line\n",
    "* leave an empty line between `syntax` and `This`\n",
    "* some implementations of Markdown, single line breaks must also be indicated with two empty spaces at the end of each line\n"
   ]
  },
  {
   "cell_type": "markdown",
   "metadata": {},
   "source": [
    "#### Adding Emphasis"
   ]
  },
  {
   "cell_type": "markdown",
   "metadata": {},
   "source": [
    "* Text can be italicized by wrapping the word in `*` or `_` symbols\n",
    "* bold text is written by wrapping the word in `**` or `_`"
   ]
  },
  {
   "cell_type": "markdown",
   "metadata": {},
   "source": [
    "Try adding emphasis to a sentence using these methods:\n",
    "\n",
    "```\n",
    "I am **very** excited about the _Jupyter Jumpstart_ workshop.\n",
    "```"
   ]
  },
  {
   "cell_type": "code",
   "execution_count": null,
   "metadata": {
    "collapsed": true
   },
   "outputs": [],
   "source": []
  },
  {
   "cell_type": "markdown",
   "metadata": {},
   "source": [
    "\n",
    "#### Making Lists"
   ]
  },
  {
   "cell_type": "markdown",
   "metadata": {},
   "source": [
    "Markdown includes support for ordered and unordered lists. Try typing the following list into the textbox:\n",
    "\n",
    "```\n",
    "Shopping List\n",
    "----------\n",
    "* Fruits\n",
    "  * Apples\n",
    "  * Oranges\n",
    "  * Grapes\n",
    "* Dairy\n",
    "  * Milk\n",
    "  * Cheese\n",
    "```\n",
    "\n",
    "Indenting the `*` will allow you to created nested items.\n"
   ]
  },
  {
   "cell_type": "code",
   "execution_count": null,
   "metadata": {
    "collapsed": true
   },
   "outputs": [],
   "source": []
  },
  {
   "cell_type": "markdown",
   "metadata": {},
   "source": [
    "**Ordered lists** are written by numbering each line. Once again, the goal of Markdown is to produce documents that are both legible as plain text and able to be transformed into other formats. \n",
    "\n",
    "```\n",
    "To-do list\n",
    "----------\n",
    "1. Finish Markdown tutorial\n",
    "2. Go to grocery store\n",
    "3. Prepare lunch\n",
    "```"
   ]
  },
  {
   "cell_type": "code",
   "execution_count": null,
   "metadata": {
    "collapsed": true
   },
   "outputs": [],
   "source": []
  },
  {
   "cell_type": "markdown",
   "metadata": {},
   "source": [
    "#### Code Snippets"
   ]
  },
  {
   "cell_type": "markdown",
   "metadata": {},
   "source": [
    "* Represent code by wrapping snippets in back-tick characters like `````\n",
    "* for example `` `<br />` ``\n",
    "* whole blocks of code are written by typing three backtick characters before and after each block\n",
    "\n",
    "Try typing the following text into the textbox:\n",
    "\n",
    "    ```html\n",
    "    <html>\n",
    "        <head>\n",
    "            <title>Website Title</title>\n",
    "        </head>\n",
    "        <body>\n",
    "        </body>\n",
    "    </html>\n",
    "    ```"
   ]
  },
  {
   "cell_type": "code",
   "execution_count": null,
   "metadata": {
    "collapsed": true
   },
   "outputs": [],
   "source": []
  },
  {
   "cell_type": "markdown",
   "metadata": {},
   "source": [
    "**specific languages** \n",
    "\n",
    "in jupyter you can specify specific lanauages for code syntax hylighting\n",
    "\n",
    "example:\n",
    "\n",
    "```python\n",
    "\n",
    "for item in collection:\n",
    "    print(item)\n",
    "```\n",
    "\n",
    "note how the keywords in python are highlighted"
   ]
  },
  {
   "cell_type": "markdown",
   "metadata": {},
   "source": [
    "\n",
    "#### Blockquotes\n",
    "\n",
    "Adding a `>` before any paragraph will render it as a blockquote element.\n",
    "\n",
    "Try typing the following text into the textbox:\n",
    "\n",
    "```\n",
    "> Hello, I am a paragraph of text enclosed in a blockquote. Notice how I am offset from the left margin. \n",
    "```"
   ]
  },
  {
   "cell_type": "code",
   "execution_count": null,
   "metadata": {
    "collapsed": true
   },
   "outputs": [],
   "source": []
  },
  {
   "cell_type": "markdown",
   "metadata": {},
   "source": [
    "#### Links\n",
    "\n",
    "* Inline links are written by enclosing the link text in square brackets first, then including the URL and optional alt-text in round brackets\n",
    "\n",
    "`For more tutorials, please visit the [Programming Historian](http://programminghistorian.org/ \"Programming Historian main page\").`\n"
   ]
  },
  {
   "cell_type": "code",
   "execution_count": null,
   "metadata": {
    "collapsed": true
   },
   "outputs": [],
   "source": []
  },
  {
   "cell_type": "markdown",
   "metadata": {},
   "source": [
    "#### Images\n",
    "\n",
    "Images can be referenced using `!`, followed by some alt-text in square brackets, followed by the image URL and an optional title. These will not be displayed in your plain text document, but would be embedded into a rendered HTML page.\n",
    "\n",
    "`![Wikipedia logo](http://upload.wikimedia.org/wikipedia/en/8/80/Wikipedia-logo-v2.svg \"Wikipedia logo\")`"
   ]
  },
  {
   "cell_type": "code",
   "execution_count": null,
   "metadata": {
    "collapsed": true
   },
   "outputs": [],
   "source": []
  },
  {
   "cell_type": "markdown",
   "metadata": {},
   "source": [
    "#### Horizontal Rules\n",
    "\n",
    "Horizontal rules are produced when three or more `-`, `*` or `_` are included on a line by themselves, regardless of the number of spaces between them. All of the following combinations will render horizontal rules:\n",
    "\n",
    "```\n",
    "___\n",
    "* * *\n",
    "- - - - - -\n",
    "```"
   ]
  },
  {
   "cell_type": "code",
   "execution_count": null,
   "metadata": {
    "collapsed": true
   },
   "outputs": [],
   "source": []
  },
  {
   "cell_type": "markdown",
   "metadata": {},
   "source": [
    "#### Tables \n",
    "\n",
    "* use pipes `|` to separate columns and hyphens `-` between your headings and the rest of the table content \n",
    "* pipes are only strictly necessary between columns, you may use them on either side of your table for a more polished look \n",
    "* cells can contain any length of content, and it is not necessary for pipes to be vertically aligned with each other.\n",
    "\n",
    "Make the below into a table in the notebook:\n",
    "\n",
    "```\n",
    "| Heading 1 | Heading 2 | Heading 3 |\n",
    "| --------- | --------- | --------- |\n",
    "| Row 1, column 1 | Row 1, column 2 | Row 1, column 3|\n",
    "| Row 2, column 1 | Row 2, column 2 | Row 2, column 3|\n",
    "| Row 3, column 1 | Row 3, column 2 | Row 3, column 3|\n",
    "```"
   ]
  },
  {
   "cell_type": "code",
   "execution_count": null,
   "metadata": {
    "collapsed": true
   },
   "outputs": [],
   "source": []
  },
  {
   "cell_type": "markdown",
   "metadata": {},
   "source": [
    "\n",
    "To specify the alignment of each column, colons `:` can be added to the header row as follows. Create the table in the notebook.\n",
    "\n",
    "```\n",
    "| Left-aligned | Centered | Right-aligned |\n",
    "| :-------- | :-------: | --------: |\n",
    "| Apples | Red | 5000 |\n",
    "| Bananas | Yellow | 75 |\n",
    "```\n"
   ]
  },
  {
   "cell_type": "code",
   "execution_count": null,
   "metadata": {
    "collapsed": true
   },
   "outputs": [],
   "source": []
  }
 ],
 "metadata": {
  "kernelspec": {
   "display_name": "Python 3",
   "language": "python",
   "name": "python3"
  },
  "language_info": {
   "codemirror_mode": {
    "name": "ipython",
    "version": 3
   },
   "file_extension": ".py",
   "mimetype": "text/x-python",
   "name": "python",
   "nbconvert_exporter": "python",
   "pygments_lexer": "ipython3",
   "version": "3.5.1"
  }
 },
 "nbformat": 4,
 "nbformat_minor": 0
}
