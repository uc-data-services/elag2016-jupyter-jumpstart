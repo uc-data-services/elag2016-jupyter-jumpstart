{
 "cells": [
  {
   "cell_type": "markdown",
   "metadata": {},
   "source": [
    "# An exhibit of Markdown"
   ]
  },
  {
   "cell_type": "markdown",
   "metadata": {},
   "source": [
    "This note demonstrates some of what [Markdown][1] is capable of doing.\n",
    "\n",
    "*Note: Feel free to play with this page. Unlike regular notes, this doesn't automatically save itself.*"
   ]
  },
  {
   "cell_type": "markdown",
   "metadata": {},
   "source": [
    "## Basic formatting"
   ]
  },
  {
   "cell_type": "markdown",
   "metadata": {},
   "source": [
    "Paragraphs can be written like so. A paragraph is the basic block of Markdown. A paragraph is what text will turn into when there is no reason it should become anything else.\n",
    "\n",
    "Paragraphs must be separated by a blank line. Basic formatting of *italics* and **bold** is supported. This *can be **nested** like* so.\n"
   ]
  },
  {
   "cell_type": "markdown",
   "metadata": {},
   "source": [
    "## Lists\n"
   ]
  },
  {
   "cell_type": "markdown",
   "metadata": {},
   "source": [
    "\n",
    "### Ordered list\n",
    "\n",
    "1. Item 1\n",
    "2. A second item\n",
    "3. Number 3\n",
    "4. Ⅳ\n",
    "\n",
    "*Note: the fourth item uses the Unicode character for [Roman numeral four][2].*\n",
    "\n",
    "### Unordered list\n",
    "\n",
    "* An item\n",
    "* Another item\n",
    "* Yet another item\n",
    "* And there's more...\n",
    "\n"
   ]
  },
  {
   "cell_type": "markdown",
   "metadata": {},
   "source": [
    "## Paragraph modifiers\n",
    "\n",
    "### Code block\n",
    "\n",
    "    Code blocks are very useful for developers and other people who look at code or other things that are written in plain text. As you can see, it uses a fixed-width font.\n",
    "\n",
    "You can also make `inline code` to add code into other things.\n",
    "\n",
    "### Quote\n",
    "\n",
    "> Here is a quote. What this is should be self explanatory. Quotes are automatically indented when they are used.\n"
   ]
  },
  {
   "cell_type": "markdown",
   "metadata": {},
   "source": [
    "## Headings\n",
    "\n",
    "There are six levels of headings. They correspond with the six levels of HTML headings. You've probably noticed them already in the page. Each level down uses one more hash character.\n",
    "\n",
    "### Headings *can* also contain **formatting**\n",
    "\n",
    "### They can even contain `inline code`\n",
    "\n",
    "Of course, demonstrating what headings look like messes up the structure of the page.\n",
    "\n",
    "I don't recommend using more than three or four levels of headings here, because, when you're smallest heading isn't too small, and you're largest heading isn't too big, and you want each size up to look noticeably larger and more important, there there are only so many sizes that you can use.\n",
    "\n",
    "## URLs\n",
    "\n",
    "URLs can be made in a handful of ways:\n",
    "\n",
    "* A named link to [MarkItDown][3]. The easiest way to do these is to select what you want to make a link and hit `Ctrl+L`.\n",
    "* Another named link to [MarkItDown](http://www.markitdown.net/)\n",
    "* Sometimes you just want a URL like <http://www.markitdown.net/>.\n",
    "\n",
    "## Horizontal rule\n",
    "\n",
    "A horizontal rule is a line that goes across the middle of the page.\n",
    "\n",
    "---\n",
    "\n",
    "It's sometimes handy for breaking things up.\n",
    "\n",
    "## Images\n",
    "\n",
    "Markdown can also contain images. I'll need to add something here sometime.\n",
    "\n",
    "## Finally\n",
    "\n",
    "There's actually a lot more to Markdown than this. See the official [introduction][4] and [syntax][5] for more information. However, be aware that this is not using the official implementation, and this might work subtly differently in some of the little things.\n",
    "\n",
    "    [1]: http://daringfireball.net/projects/markdown/\n",
    "    [2]: http://www.fileformat.info/info/unicode/char/2163/index.htm\n",
    "    [3]: http://www.markitdown.net/\n",
    "    [4]: http://daringfireball.net/projects/markdown/basics\n",
    "    [5]: http://daringfireball.net/projects/markdown/syntax\n"
   ]
  },
  {
   "cell_type": "code",
   "execution_count": null,
   "metadata": {
    "collapsed": true
   },
   "outputs": [],
   "source": []
  }
 ],
 "metadata": {
  "kernelspec": {
   "display_name": "Python 3",
   "language": "python",
   "name": "python3"
  },
  "language_info": {
   "codemirror_mode": {
    "name": "ipython",
    "version": 3
   },
   "file_extension": ".py",
   "mimetype": "text/x-python",
   "name": "python",
   "nbconvert_exporter": "python",
   "pygments_lexer": "ipython3",
   "version": "3.5.1"
  }
 },
 "nbformat": 4,
 "nbformat_minor": 0
}
