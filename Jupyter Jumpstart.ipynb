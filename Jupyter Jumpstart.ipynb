{
 "cells": [
  {
   "cell_type": "markdown",
   "metadata": {
    "slideshow": {
     "slide_type": "slide"
    }
   },
   "source": [
    "# Jupyter Jumpstart \n",
    "\n",
    "\n",
    "\n",
    "![Jupyter](http://jupyter.org/assets/main-logo.svg)\n",
    "\n",
    "\n",
    "\n",
    "tim dennis & harrison dekker  \n",
    "june 6, 2016"
   ]
  },
  {
   "cell_type": "markdown",
   "metadata": {
    "slideshow": {
     "slide_type": "slide"
    }
   },
   "source": [
    "# Tools used in this class:\n",
    "\n",
    "* Etherpad - http://pad.software-carpentry.org/jupyter-jump (collaborative notetaking)\n",
    "* SageMathCloud - https://cloud.sagemath.com (jupyter notebooks)\n",
    "* Anaconda Python (and R) https://www.continuum.io/downloads\n",
    "* Markdown - https://daringfireball.net/projects/markdown/\n",
    "* Pandas - http://pandas.pydata.org/\n",
    "* Jupyter - http://jupyter.org/\n"
   ]
  },
  {
   "cell_type": "markdown",
   "metadata": {
    "slideshow": {
     "slide_type": "slide"
    }
   },
   "source": [
    "## Python Resources\n",
    "\n",
    "* [Python for Data Analysis](http://shop.oreilly.com/product/0636920023784.do) - Excellent book written by the guy who created Pandas\n",
    "* [Web Scraping with Python](http://shop.oreilly.com/product/0636920034391.do) - If you need get data from websites or an API\n",
    "* [Python documentation](https://docs.python.org/3/)\n",
    "* [Jupyter Documentation](https://jupyter.readthedocs.io/en/latest/) - If you want to get more out of the Jupyter notebooks.\n",
    "* [A gallery of Jupyter (Ipython) Notebooks](https://github.com/ipython/ipython/wiki/A-gallery-of-interesting-IPython-Notebooks)\n",
    "* [Exercism.io](http://exercism.io/) - Download and solve practice problems in nearly 30 different languages including Python\n"
   ]
  },
  {
   "cell_type": "code",
   "execution_count": 2,
   "metadata": {
    "collapsed": true,
    "slideshow": {
     "slide_type": "skip"
    }
   },
   "outputs": [],
   "source": [
    "from IPython import display"
   ]
  },
  {
   "cell_type": "code",
   "execution_count": 3,
   "metadata": {
    "collapsed": false,
    "slideshow": {
     "slide_type": "slide"
    }
   },
   "outputs": [
    {
     "data": {
      "text/html": [
       "\n",
       "        <iframe\n",
       "            width=\"400\"\n",
       "            height=\"300\"\n",
       "            src=\"https://www.youtube.com/embed/Rc4JQWowG5I\"\n",
       "            frameborder=\"0\"\n",
       "            allowfullscreen\n",
       "        ></iframe>\n",
       "        "
      ],
      "text/plain": [
       "<IPython.lib.display.YouTubeVideo at 0x104324470>"
      ]
     },
     "execution_count": 3,
     "metadata": {},
     "output_type": "execute_result"
    }
   ],
   "source": [
    "display.YouTubeVideo('Rc4JQWowG5I')"
   ]
  },
  {
   "cell_type": "code",
   "execution_count": null,
   "metadata": {
    "collapsed": true
   },
   "outputs": [],
   "source": []
  }
 ],
 "metadata": {
  "celltoolbar": "Slideshow",
  "kernelspec": {
   "display_name": "Python 3",
   "language": "python",
   "name": "python3"
  },
  "language_info": {
   "codemirror_mode": {
    "name": "ipython",
    "version": 3
   },
   "file_extension": ".py",
   "mimetype": "text/x-python",
   "name": "python",
   "nbconvert_exporter": "python",
   "pygments_lexer": "ipython3",
   "version": "3.5.1"
  }
 },
 "nbformat": 4,
 "nbformat_minor": 0
}
